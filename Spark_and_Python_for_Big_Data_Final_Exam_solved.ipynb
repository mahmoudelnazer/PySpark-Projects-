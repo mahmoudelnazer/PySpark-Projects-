{
  "nbformat": 4,
  "nbformat_minor": 5,
  "metadata": {
    "kernelspec": {
      "display_name": "Python 3",
      "language": "python",
      "name": "python3"
    },
    "language_info": {
      "codemirror_mode": {
        "name": "ipython",
        "version": 3
      },
      "file_extension": ".py",
      "mimetype": "text/x-python",
      "name": "python",
      "nbconvert_exporter": "python",
      "pygments_lexer": "ipython3",
      "version": "3.8.8"
    },
    "colab": {
      "name": "Spark and Python for Big Data Final Exam.ipynb",
      "provenance": []
    }
  },
  "cells": [
    {
      "cell_type": "markdown",
      "metadata": {
        "id": "fa486f23"
      },
      "source": [
        "![image.png](attachment:image.png)"
      ],
      "id": "fa486f23"
    },
    {
      "cell_type": "markdown",
      "metadata": {
        "id": "abbf1e33"
      },
      "source": [
        "##### **Good luck with taking your exam. Keep working and make your dreams all come true. Seeing the results of all of your hard work will make this struggle worth it. We’re all thinking of you.** \n",
        "<b><font color='blue'>AI-PRO Spark Team ITI</font></b>"
      ],
      "id": "abbf1e33"
    },
    {
      "cell_type": "markdown",
      "metadata": {
        "id": "8326ba88"
      },
      "source": [
        "## Objective:\n",
        "- The objective from this project is to create a <b>Logistic Regression Classifier</b> to predict the <b>Stroke Condition</b>.\n",
        "- <b>Stoke</b> is a condition in which either the blood flow to the brain stops or blood flow is excessive.\n",
        "- It is required to obtain <b>ROC > 0.65</b>."
      ],
      "id": "8326ba88"
    },
    {
      "cell_type": "markdown",
      "metadata": {
        "id": "0eb78c16"
      },
      "source": [
        "### Data:\n",
        "- Data is provided in csv format in a file named <b>healthcare-dataset-stroke-data.csv</b>"
      ],
      "id": "0eb78c16"
    },
    {
      "cell_type": "markdown",
      "metadata": {
        "id": "7c842b79"
      },
      "source": [
        "### Column names and data types are as follow:\n",
        "- id, integer.\n",
        "- gender, string.\n",
        "- age, double.\n",
        "- hypertension, integer.\n",
        "- heart_disease, integer.\n",
        "- ever_married, string.\n",
        "- work_type, string.\n",
        "- Residence_type, string.\n",
        "- avg_glucose_level, double.\n",
        "- bmi, double.\n",
        "- smoking_status, string.\n",
        "- stroke, integer <b>(Target Label)</b>.\n",
        "If the person has stroke the stroke label value is <b>\"1\"</b> otherwise <b>\"0\"</b>."
      ],
      "id": "7c842b79"
    },
    {
      "cell_type": "markdown",
      "metadata": {
        "id": "6971f788"
      },
      "source": [
        "## To perform this task follow the following guiding steps:"
      ],
      "id": "6971f788"
    },
    {
      "cell_type": "markdown",
      "metadata": {
        "id": "e31bc851"
      },
      "source": [
        "### Create a spark session and import the required libraries"
      ],
      "id": "e31bc851"
    },
    {
      "cell_type": "code",
      "metadata": {
        "colab": {
          "base_uri": "https://localhost:8080/"
        },
        "id": "XQseX3-Snw07",
        "outputId": "256b9bfd-dce5-47a0-9546-5c62e64facc2"
      },
      "source": [
        "!pip install pyspark "
      ],
      "id": "XQseX3-Snw07",
      "execution_count": null,
      "outputs": [
        {
          "output_type": "stream",
          "name": "stdout",
          "text": [
            "Requirement already satisfied: pyspark in /usr/local/lib/python3.7/dist-packages (3.2.0)\n",
            "Requirement already satisfied: py4j==0.10.9.2 in /usr/local/lib/python3.7/dist-packages (from pyspark) (0.10.9.2)\n"
          ]
        }
      ]
    },
    {
      "cell_type": "code",
      "metadata": {
        "id": "ab3ba311"
      },
      "source": [
        "from pyspark.sql import SparkSession"
      ],
      "id": "ab3ba311",
      "execution_count": null,
      "outputs": []
    },
    {
      "cell_type": "code",
      "metadata": {
        "id": "Tc-M1b30oLf8"
      },
      "source": [
        "spark = SparkSession.builder.appName('Exam').getOrCreate()"
      ],
      "id": "Tc-M1b30oLf8",
      "execution_count": null,
      "outputs": []
    },
    {
      "cell_type": "markdown",
      "metadata": {
        "id": "843b8468"
      },
      "source": [
        "### Create a data schema programatically"
      ],
      "id": "843b8468"
    },
    {
      "cell_type": "code",
      "metadata": {
        "id": "MDQ0h5PLq2wQ"
      },
      "source": [
        "from pyspark.sql.types import StructType, DoubleType, StringType,IntegerType, StructField"
      ],
      "id": "MDQ0h5PLq2wQ",
      "execution_count": null,
      "outputs": []
    },
    {
      "cell_type": "code",
      "metadata": {
        "id": "8616fe16"
      },
      "source": [
        "schema = StructType([StructField(\"id\", IntegerType(), True),\n",
        "                    StructField(\"gender\", StringType(), True),\n",
        "                    StructField(\"age\", DoubleType(), True),\n",
        "                    StructField(\"hypertension\", IntegerType(), True),\n",
        "                    StructField(\"heart_disease\", IntegerType(), True),\n",
        "                    StructField(\"ever_married\", StringType(), True),\n",
        "                    StructField(\"work_type\", StringType(), True),\n",
        "                    StructField(\"Residence\", StringType(), True),\n",
        "                    StructField(\"avg_glucose_level\", DoubleType(), True),\n",
        "                    StructField(\"bmi\", DoubleType(), True),\n",
        "                    StructField(\"smoking_status\", StringType(), True),\n",
        "                    StructField(\"stroke\", IntegerType(), True)])"
      ],
      "id": "8616fe16",
      "execution_count": null,
      "outputs": []
    },
    {
      "cell_type": "markdown",
      "metadata": {
        "id": "2d00718f"
      },
      "source": [
        "### Read the data using the standard DataReader (Key,Value) pairs format\n",
        "- Provide the schema and any other required options."
      ],
      "id": "2d00718f"
    },
    {
      "cell_type": "code",
      "metadata": {
        "id": "e4nNW0MU2upT"
      },
      "source": [
        ""
      ],
      "id": "e4nNW0MU2upT",
      "execution_count": null,
      "outputs": []
    },
    {
      "cell_type": "code",
      "metadata": {
        "id": "61fcc4cd"
      },
      "source": [
        "df = spark.read.csv('/content/sample_data/healthcare-dataset-stroke-data - healthcare-dataset-stroke-data.csv', schema = schema , header = True)"
      ],
      "id": "61fcc4cd",
      "execution_count": null,
      "outputs": []
    },
    {
      "cell_type": "code",
      "metadata": {
        "colab": {
          "base_uri": "https://localhost:8080/"
        },
        "id": "_SJzGjIAri9f",
        "outputId": "75fb763d-849a-457f-cf7a-01e0db44e7fd"
      },
      "source": [
        "df.show(5)"
      ],
      "id": "_SJzGjIAri9f",
      "execution_count": null,
      "outputs": [
        {
          "output_type": "stream",
          "name": "stdout",
          "text": [
            "+-----+------+----+------------+-------------+------------+-------------+---------+-----------------+----+---------------+------+\n",
            "|   id|gender| age|hypertension|heart_disease|ever_married|    work_type|Residence|avg_glucose_level| bmi| smoking_status|stroke|\n",
            "+-----+------+----+------------+-------------+------------+-------------+---------+-----------------+----+---------------+------+\n",
            "| 9046|  Male|67.0|           0|            1|         Yes|      Private|    Urban|           228.69|36.6|formerly smoked|     1|\n",
            "|51676|Female|61.0|           0|            0|         Yes|Self-employed|    Rural|           202.21|null|   never smoked|     1|\n",
            "|31112|  Male|80.0|           0|            1|         Yes|      Private|    Rural|           105.92|32.5|   never smoked|     1|\n",
            "|60182|Female|49.0|           0|            0|         Yes|      Private|    Urban|           171.23|34.4|         smokes|     1|\n",
            "| 1665|Female|79.0|           1|            0|         Yes|Self-employed|    Rural|           174.12|24.0|   never smoked|     1|\n",
            "+-----+------+----+------------+-------------+------------+-------------+---------+-----------------+----+---------------+------+\n",
            "only showing top 5 rows\n",
            "\n"
          ]
        }
      ]
    },
    {
      "cell_type": "markdown",
      "metadata": {
        "id": "974bc193"
      },
      "source": [
        "### Explore the data \n",
        "#### You have to do the following:\n",
        "- Print the Schema.\n",
        "- Show the first 10 rows from the data.\n",
        "- Explore null values and show how many null values in each column.\n",
        "- Plot a count plot for the target label and <b>notice the graph</b>.\n",
        "- Perform any additional EDA you find useful."
      ],
      "id": "974bc193"
    },
    {
      "cell_type": "code",
      "metadata": {
        "colab": {
          "base_uri": "https://localhost:8080/"
        },
        "id": "353b6f34",
        "outputId": "6e5e326b-590a-4047-8488-bb2843e40ed5"
      },
      "source": [
        "#printSchema\n",
        "df.printSchema()"
      ],
      "id": "353b6f34",
      "execution_count": null,
      "outputs": [
        {
          "output_type": "stream",
          "name": "stdout",
          "text": [
            "root\n",
            " |-- id: integer (nullable = true)\n",
            " |-- gender: string (nullable = true)\n",
            " |-- age: double (nullable = true)\n",
            " |-- hypertension: integer (nullable = true)\n",
            " |-- heart_disease: integer (nullable = true)\n",
            " |-- ever_married: string (nullable = true)\n",
            " |-- work_type: string (nullable = true)\n",
            " |-- Residence: string (nullable = true)\n",
            " |-- avg_glucose_level: double (nullable = true)\n",
            " |-- bmi: double (nullable = true)\n",
            " |-- smoking_status: string (nullable = true)\n",
            " |-- stroke: integer (nullable = true)\n",
            "\n"
          ]
        }
      ]
    },
    {
      "cell_type": "code",
      "metadata": {
        "colab": {
          "base_uri": "https://localhost:8080/"
        },
        "id": "6fb198f0",
        "outputId": "75b7d3c2-f621-43a4-ac43-a9492c5a079b"
      },
      "source": [
        "#print first 10 rows\n",
        "df.show(10)"
      ],
      "id": "6fb198f0",
      "execution_count": null,
      "outputs": [
        {
          "output_type": "stream",
          "name": "stdout",
          "text": [
            "+-----+------+----+------------+-------------+------------+-------------+---------+-----------------+----+---------------+------+\n",
            "|   id|gender| age|hypertension|heart_disease|ever_married|    work_type|Residence|avg_glucose_level| bmi| smoking_status|stroke|\n",
            "+-----+------+----+------------+-------------+------------+-------------+---------+-----------------+----+---------------+------+\n",
            "| 9046|  Male|67.0|           0|            1|         Yes|      Private|    Urban|           228.69|36.6|formerly smoked|     1|\n",
            "|51676|Female|61.0|           0|            0|         Yes|Self-employed|    Rural|           202.21|null|   never smoked|     1|\n",
            "|31112|  Male|80.0|           0|            1|         Yes|      Private|    Rural|           105.92|32.5|   never smoked|     1|\n",
            "|60182|Female|49.0|           0|            0|         Yes|      Private|    Urban|           171.23|34.4|         smokes|     1|\n",
            "| 1665|Female|79.0|           1|            0|         Yes|Self-employed|    Rural|           174.12|24.0|   never smoked|     1|\n",
            "|56669|  Male|81.0|           0|            0|         Yes|      Private|    Urban|           186.21|29.0|formerly smoked|     1|\n",
            "|53882|  Male|74.0|           1|            1|         Yes|      Private|    Rural|            70.09|27.4|   never smoked|     1|\n",
            "|10434|Female|69.0|           0|            0|          No|      Private|    Urban|            94.39|22.8|   never smoked|     1|\n",
            "|27419|Female|59.0|           0|            0|         Yes|      Private|    Rural|            76.15|null|        Unknown|     1|\n",
            "|60491|Female|78.0|           0|            0|         Yes|      Private|    Urban|            58.57|24.2|        Unknown|     1|\n",
            "+-----+------+----+------------+-------------+------------+-------------+---------+-----------------+----+---------------+------+\n",
            "only showing top 10 rows\n",
            "\n"
          ]
        }
      ]
    },
    {
      "cell_type": "code",
      "metadata": {
        "colab": {
          "base_uri": "https://localhost:8080/"
        },
        "id": "3EA5dk5_rs2b",
        "outputId": "9adf50ea-622c-46a0-cdd1-4c7f0b146cfc"
      },
      "source": [
        "df.count()"
      ],
      "id": "3EA5dk5_rs2b",
      "execution_count": null,
      "outputs": [
        {
          "output_type": "execute_result",
          "data": {
            "text/plain": [
              "5110"
            ]
          },
          "metadata": {},
          "execution_count": 14
        }
      ]
    },
    {
      "cell_type": "code",
      "metadata": {
        "id": "JzER_G1Nrs4Y"
      },
      "source": [
        "from pyspark.sql.functions import isnan, when, count, col"
      ],
      "id": "JzER_G1Nrs4Y",
      "execution_count": null,
      "outputs": []
    },
    {
      "cell_type": "code",
      "metadata": {
        "colab": {
          "base_uri": "https://localhost:8080/"
        },
        "id": "EJeswYnGrs6Y",
        "outputId": "209683c0-3a56-4a2f-9c9c-841cef268d65"
      },
      "source": [
        "#count of null in each column\n",
        "df.select([count(when(isnan(c) | col(c).isNull(), c)).alias(c) for c in df.columns]).show()"
      ],
      "id": "EJeswYnGrs6Y",
      "execution_count": null,
      "outputs": [
        {
          "output_type": "stream",
          "name": "stdout",
          "text": [
            "+---+------+---+------------+-------------+------------+---------+---------+-----------------+---+--------------+------+\n",
            "| id|gender|age|hypertension|heart_disease|ever_married|work_type|Residence|avg_glucose_level|bmi|smoking_status|stroke|\n",
            "+---+------+---+------------+-------------+------------+---------+---------+-----------------+---+--------------+------+\n",
            "|  0|     0|  0|           0|            0|           0|        0|        0|                0|201|             0|     0|\n",
            "+---+------+---+------------+-------------+------------+---------+---------+-----------------+---+--------------+------+\n",
            "\n"
          ]
        }
      ]
    },
    {
      "cell_type": "code",
      "metadata": {
        "colab": {
          "base_uri": "https://localhost:8080/",
          "height": 296
        },
        "id": "GVyj2NrVrs8T",
        "outputId": "89476a54-b2d7-43f6-91cc-e36a27e76136"
      },
      "source": [
        "#drawing the count plot\n",
        "import seaborn as sns\n",
        "y = df.select('stroke').toPandas()\n",
        "sns.countplot(x = 'stroke' , data = y)"
      ],
      "id": "GVyj2NrVrs8T",
      "execution_count": null,
      "outputs": [
        {
          "output_type": "execute_result",
          "data": {
            "text/plain": [
              "<matplotlib.axes._subplots.AxesSubplot at 0x7f6103021410>"
            ]
          },
          "metadata": {},
          "execution_count": 17
        },
        {
          "output_type": "display_data",
          "data": {
            "image/png": "[encoded data removed]",
            "text/plain": [
              "<Figure size 432x288 with 1 Axes>"
            ]
          },
          "metadata": {
            "needs_background": "light"
          }
        }
      ]
    },
    {
      "cell_type": "code",
      "metadata": {
        "id": "FTM7UBwluqRs"
      },
      "source": [
        "#the data is highly imbalanced"
      ],
      "id": "FTM7UBwluqRs",
      "execution_count": null,
      "outputs": []
    },
    {
      "cell_type": "code",
      "metadata": {
        "id": "mzWpl9Evv4Af"
      },
      "source": [
        ""
      ],
      "id": "mzWpl9Evv4Af",
      "execution_count": null,
      "outputs": []
    },
    {
      "cell_type": "markdown",
      "metadata": {
        "id": "59b770cb"
      },
      "source": [
        "### Get the summary statistics of the age column\n",
        "- You will find the minimum age is about <b>0.08</b>.\n",
        "- Remove rows for the age below <b>2 years old</b>."
      ],
      "id": "59b770cb"
    },
    {
      "cell_type": "code",
      "metadata": {
        "colab": {
          "base_uri": "https://localhost:8080/"
        },
        "id": "G1jStPL4ti5S",
        "outputId": "26c57b6c-562e-4f61-d166-227c32409592"
      },
      "source": [
        "df.describe().select('summary','age').show()"
      ],
      "id": "G1jStPL4ti5S",
      "execution_count": null,
      "outputs": [
        {
          "output_type": "stream",
          "name": "stdout",
          "text": [
            "+-------+------------------+\n",
            "|summary|               age|\n",
            "+-------+------------------+\n",
            "|  count|              5110|\n",
            "|   mean|43.226614481409015|\n",
            "| stddev| 22.61264672311348|\n",
            "|    min|              0.08|\n",
            "|    max|              82.0|\n",
            "+-------+------------------+\n",
            "\n"
          ]
        }
      ]
    },
    {
      "cell_type": "code",
      "metadata": {
        "scrolled": false,
        "id": "ed40fb11"
      },
      "source": [
        "df1 = df.filter('age >= 2')"
      ],
      "id": "ed40fb11",
      "execution_count": null,
      "outputs": []
    },
    {
      "cell_type": "code",
      "metadata": {
        "colab": {
          "base_uri": "https://localhost:8080/"
        },
        "id": "cc99c0be",
        "outputId": "4d44bdb4-1426-4342-ad96-14dbf2059998"
      },
      "source": [
        "df1.describe().select('summary','age').show()"
      ],
      "id": "cc99c0be",
      "execution_count": null,
      "outputs": [
        {
          "output_type": "stream",
          "name": "stdout",
          "text": [
            "+-------+------------------+\n",
            "|summary|               age|\n",
            "+-------+------------------+\n",
            "|  count|              4990|\n",
            "|   mean| 44.23907815631262|\n",
            "| stddev|21.908077881917443|\n",
            "|    min|               2.0|\n",
            "|    max|              82.0|\n",
            "+-------+------------------+\n",
            "\n"
          ]
        }
      ]
    },
    {
      "cell_type": "markdown",
      "metadata": {
        "id": "bf8c9498"
      },
      "source": [
        "### Working with gender & smoking_status columns:\n",
        "- Select and show the gender & smoking_status columns\n",
        "- Get the distinct values for each column."
      ],
      "id": "bf8c9498"
    },
    {
      "cell_type": "code",
      "metadata": {
        "colab": {
          "base_uri": "https://localhost:8080/"
        },
        "id": "xNkXrlKfwK6B",
        "outputId": "bd237c4e-9e83-4f58-c50f-c70403ad3054"
      },
      "source": [
        "df1.show(2)"
      ],
      "id": "xNkXrlKfwK6B",
      "execution_count": null,
      "outputs": [
        {
          "output_type": "stream",
          "name": "stdout",
          "text": [
            "+-----+------+----+------------+-------------+------------+-------------+---------+-----------------+----+---------------+------+\n",
            "|   id|gender| age|hypertension|heart_disease|ever_married|    work_type|Residence|avg_glucose_level| bmi| smoking_status|stroke|\n",
            "+-----+------+----+------------+-------------+------------+-------------+---------+-----------------+----+---------------+------+\n",
            "| 9046|  Male|67.0|           0|            1|         Yes|      Private|    Urban|           228.69|36.6|formerly smoked|     1|\n",
            "|51676|Female|61.0|           0|            0|         Yes|Self-employed|    Rural|           202.21|null|   never smoked|     1|\n",
            "+-----+------+----+------------+-------------+------------+-------------+---------+-----------------+----+---------------+------+\n",
            "only showing top 2 rows\n",
            "\n"
          ]
        }
      ]
    },
    {
      "cell_type": "code",
      "metadata": {
        "colab": {
          "base_uri": "https://localhost:8080/"
        },
        "id": "Wz4YlVvzwJrl",
        "outputId": "e5ee9eba-dc9d-4a81-f58e-2625a90fee91"
      },
      "source": [
        "df1.select('gender','smoking_status').show()"
      ],
      "id": "Wz4YlVvzwJrl",
      "execution_count": null,
      "outputs": [
        {
          "output_type": "stream",
          "name": "stdout",
          "text": [
            "+------+---------------+\n",
            "|gender| smoking_status|\n",
            "+------+---------------+\n",
            "|  Male|formerly smoked|\n",
            "|Female|   never smoked|\n",
            "|  Male|   never smoked|\n",
            "|Female|         smokes|\n",
            "|Female|   never smoked|\n",
            "|  Male|formerly smoked|\n",
            "|  Male|   never smoked|\n",
            "|Female|   never smoked|\n",
            "|Female|        Unknown|\n",
            "|Female|        Unknown|\n",
            "|Female|   never smoked|\n",
            "|Female|         smokes|\n",
            "|Female|         smokes|\n",
            "|  Male|        Unknown|\n",
            "|Female|   never smoked|\n",
            "|Female|   never smoked|\n",
            "|  Male|         smokes|\n",
            "|  Male|         smokes|\n",
            "|Female|   never smoked|\n",
            "|  Male|        Unknown|\n",
            "+------+---------------+\n",
            "only showing top 20 rows\n",
            "\n"
          ]
        }
      ]
    },
    {
      "cell_type": "code",
      "metadata": {
        "colab": {
          "base_uri": "https://localhost:8080/"
        },
        "id": "925a5ecd",
        "outputId": "d261a283-4090-4512-ba10-dd5f623797e9"
      },
      "source": [
        "#gender\n",
        "df1.select('gender').distinct().show()\n"
      ],
      "id": "925a5ecd",
      "execution_count": null,
      "outputs": [
        {
          "output_type": "stream",
          "name": "stdout",
          "text": [
            "+------+\n",
            "|gender|\n",
            "+------+\n",
            "|Female|\n",
            "| Other|\n",
            "|  Male|\n",
            "+------+\n",
            "\n"
          ]
        }
      ]
    },
    {
      "cell_type": "code",
      "metadata": {
        "colab": {
          "base_uri": "https://localhost:8080/"
        },
        "id": "LJi2tVHfwIo1",
        "outputId": "0a796db4-869f-48b1-cac1-372a901bcd7d"
      },
      "source": [
        "#smoking status\n",
        "#gender\n",
        "df1.select('smoking_status').distinct().show()"
      ],
      "id": "LJi2tVHfwIo1",
      "execution_count": null,
      "outputs": [
        {
          "output_type": "stream",
          "name": "stdout",
          "text": [
            "+---------------+\n",
            "| smoking_status|\n",
            "+---------------+\n",
            "|         smokes|\n",
            "|        Unknown|\n",
            "|   never smoked|\n",
            "|formerly smoked|\n",
            "+---------------+\n",
            "\n"
          ]
        }
      ]
    },
    {
      "cell_type": "markdown",
      "metadata": {
        "id": "850bdfe1"
      },
      "source": [
        "#### Change the string values of the columns into numerical values as follow:\n",
        "1. Gender column:\n",
        "    * Male = 1 \n",
        "    * Female = 0 \n",
        "    * Other = 0 \n",
        "2. Smoking Status column:\n",
        "  * never smoked = 0\n",
        "  * Unknown = 0.5\n",
        "  * formerly smoked = 0.75\n",
        "  * smokes = 1.0\n"
      ],
      "id": "850bdfe1"
    },
    {
      "cell_type": "code",
      "metadata": {
        "id": "355f2ef0"
      },
      "source": [
        "from pyspark.sql.functions import udf"
      ],
      "id": "355f2ef0",
      "execution_count": null,
      "outputs": []
    },
    {
      "cell_type": "code",
      "metadata": {
        "id": "g7al4de1x0mu"
      },
      "source": [
        "#imputing the gender\n",
        "def impu_gen(x):\n",
        "  if x == 'Male':\n",
        "    return 1\n",
        "  else:\n",
        "    return 0"
      ],
      "id": "g7al4de1x0mu",
      "execution_count": null,
      "outputs": []
    },
    {
      "cell_type": "code",
      "metadata": {
        "id": "k4CYCjKHxh5A"
      },
      "source": [
        "x = udf(lambda x: impu_gen(x),IntegerType())\n",
        "df1 = df1.withColumn('Gender', x('Gender'))"
      ],
      "id": "k4CYCjKHxh5A",
      "execution_count": null,
      "outputs": []
    },
    {
      "cell_type": "code",
      "metadata": {
        "colab": {
          "base_uri": "https://localhost:8080/"
        },
        "id": "g1G-2oIwyY1D",
        "outputId": "471e8793-f26e-4dda-aa6d-cc5840531c65"
      },
      "source": [
        "df1.show(10)"
      ],
      "id": "g1G-2oIwyY1D",
      "execution_count": null,
      "outputs": [
        {
          "output_type": "stream",
          "name": "stdout",
          "text": [
            "+-----+------+----+------------+-------------+------------+-------------+---------+-----------------+----+---------------+------+\n",
            "|   id|Gender| age|hypertension|heart_disease|ever_married|    work_type|Residence|avg_glucose_level| bmi| smoking_status|stroke|\n",
            "+-----+------+----+------------+-------------+------------+-------------+---------+-----------------+----+---------------+------+\n",
            "| 9046|     1|67.0|           0|            1|         Yes|      Private|    Urban|           228.69|36.6|formerly smoked|     1|\n",
            "|51676|     0|61.0|           0|            0|         Yes|Self-employed|    Rural|           202.21|null|   never smoked|     1|\n",
            "|31112|     1|80.0|           0|            1|         Yes|      Private|    Rural|           105.92|32.5|   never smoked|     1|\n",
            "|60182|     0|49.0|           0|            0|         Yes|      Private|    Urban|           171.23|34.4|         smokes|     1|\n",
            "| 1665|     0|79.0|           1|            0|         Yes|Self-employed|    Rural|           174.12|24.0|   never smoked|     1|\n",
            "|56669|     1|81.0|           0|            0|         Yes|      Private|    Urban|           186.21|29.0|formerly smoked|     1|\n",
            "|53882|     1|74.0|           1|            1|         Yes|      Private|    Rural|            70.09|27.4|   never smoked|     1|\n",
            "|10434|     0|69.0|           0|            0|          No|      Private|    Urban|            94.39|22.8|   never smoked|     1|\n",
            "|27419|     0|59.0|           0|            0|         Yes|      Private|    Rural|            76.15|null|        Unknown|     1|\n",
            "|60491|     0|78.0|           0|            0|         Yes|      Private|    Urban|            58.57|24.2|        Unknown|     1|\n",
            "+-----+------+----+------------+-------------+------------+-------------+---------+-----------------+----+---------------+------+\n",
            "only showing top 10 rows\n",
            "\n"
          ]
        }
      ]
    },
    {
      "cell_type": "code",
      "metadata": {
        "id": "hQTSIMlZym_v"
      },
      "source": [
        "dic = {'never smoked' : 0.0,\n",
        "'Unknown' : 0.5,\n",
        "'formerly smoked' : 0.75,\n",
        "'smokes' : 1.0}"
      ],
      "id": "hQTSIMlZym_v",
      "execution_count": null,
      "outputs": []
    },
    {
      "cell_type": "code",
      "metadata": {
        "id": "Q11A2gIE5cf0"
      },
      "source": [
        ""
      ],
      "id": "Q11A2gIE5cf0",
      "execution_count": null,
      "outputs": []
    },
    {
      "cell_type": "code",
      "metadata": {
        "id": "QsUe3knTynB-"
      },
      "source": [
        "y = udf(lambda x: dic[x],DoubleType())\n",
        "df1 = df1.withColumn('smoking_status', y('smoking_status'))"
      ],
      "id": "QsUe3knTynB-",
      "execution_count": null,
      "outputs": []
    },
    {
      "cell_type": "code",
      "metadata": {
        "colab": {
          "base_uri": "https://localhost:8080/"
        },
        "id": "Srz8OOGrynEM",
        "outputId": "21810f1a-c1ef-48c8-d9ec-4116f35ad9d4"
      },
      "source": [
        "df1.show(10)"
      ],
      "id": "Srz8OOGrynEM",
      "execution_count": null,
      "outputs": [
        {
          "output_type": "stream",
          "name": "stdout",
          "text": [
            "+-----+------+----+------------+-------------+------------+-------------+---------+-----------------+----+--------------+------+\n",
            "|   id|Gender| age|hypertension|heart_disease|ever_married|    work_type|Residence|avg_glucose_level| bmi|smoking_status|stroke|\n",
            "+-----+------+----+------------+-------------+------------+-------------+---------+-----------------+----+--------------+------+\n",
            "| 9046|     1|67.0|           0|            1|         Yes|      Private|    Urban|           228.69|36.6|          0.75|     1|\n",
            "|51676|     0|61.0|           0|            0|         Yes|Self-employed|    Rural|           202.21|null|           0.0|     1|\n",
            "|31112|     1|80.0|           0|            1|         Yes|      Private|    Rural|           105.92|32.5|           0.0|     1|\n",
            "|60182|     0|49.0|           0|            0|         Yes|      Private|    Urban|           171.23|34.4|           1.0|     1|\n",
            "| 1665|     0|79.0|           1|            0|         Yes|Self-employed|    Rural|           174.12|24.0|           0.0|     1|\n",
            "|56669|     1|81.0|           0|            0|         Yes|      Private|    Urban|           186.21|29.0|          0.75|     1|\n",
            "|53882|     1|74.0|           1|            1|         Yes|      Private|    Rural|            70.09|27.4|           0.0|     1|\n",
            "|10434|     0|69.0|           0|            0|          No|      Private|    Urban|            94.39|22.8|           0.0|     1|\n",
            "|27419|     0|59.0|           0|            0|         Yes|      Private|    Rural|            76.15|null|           0.5|     1|\n",
            "|60491|     0|78.0|           0|            0|         Yes|      Private|    Urban|            58.57|24.2|           0.5|     1|\n",
            "+-----+------+----+------------+-------------+------------+-------------+---------+-----------------+----+--------------+------+\n",
            "only showing top 10 rows\n",
            "\n"
          ]
        }
      ]
    },
    {
      "cell_type": "markdown",
      "metadata": {
        "id": "3da38a31"
      },
      "source": [
        "#### Show the output DataFrame\n",
        "- Select and show the gender & smoking_status columns after value changing.\n",
        "- Print schema for the new dataframe."
      ],
      "id": "3da38a31"
    },
    {
      "cell_type": "code",
      "metadata": {
        "colab": {
          "base_uri": "https://localhost:8080/"
        },
        "id": "iC4zhw88z8aT",
        "outputId": "d3b53af7-881b-485d-e14d-f865ff5fb541"
      },
      "source": [
        "df1.select('Gender','smoking_status').show()"
      ],
      "id": "iC4zhw88z8aT",
      "execution_count": null,
      "outputs": [
        {
          "output_type": "stream",
          "name": "stdout",
          "text": [
            "+------+--------------+\n",
            "|Gender|smoking_status|\n",
            "+------+--------------+\n",
            "|     1|          0.75|\n",
            "|     0|           0.0|\n",
            "|     1|           0.0|\n",
            "|     0|           1.0|\n",
            "|     0|           0.0|\n",
            "|     1|          0.75|\n",
            "|     1|           0.0|\n",
            "|     0|           0.0|\n",
            "|     0|           0.5|\n",
            "|     0|           0.5|\n",
            "|     0|           0.0|\n",
            "|     0|           1.0|\n",
            "|     0|           1.0|\n",
            "|     1|           0.5|\n",
            "|     0|           0.0|\n",
            "|     0|           0.0|\n",
            "|     1|           1.0|\n",
            "|     1|           1.0|\n",
            "|     0|           0.0|\n",
            "|     1|           0.5|\n",
            "+------+--------------+\n",
            "only showing top 20 rows\n",
            "\n"
          ]
        }
      ]
    },
    {
      "cell_type": "code",
      "metadata": {
        "id": "7df0cf29"
      },
      "source": [
        ""
      ],
      "id": "7df0cf29",
      "execution_count": null,
      "outputs": []
    },
    {
      "cell_type": "markdown",
      "metadata": {
        "id": "89ce3b77"
      },
      "source": [
        "### Deal with null value according to your data analysis."
      ],
      "id": "89ce3b77"
    },
    {
      "cell_type": "code",
      "metadata": {
        "colab": {
          "base_uri": "https://localhost:8080/",
          "height": 296
        },
        "id": "4d78cb87",
        "outputId": "0c717b18-802c-4648-8a54-ec8399893c6d"
      },
      "source": [
        "yy = df1.select('bmi').toPandas()\n",
        "sns.histplot(x = 'bmi',data = yy)"
      ],
      "id": "4d78cb87",
      "execution_count": null,
      "outputs": [
        {
          "output_type": "execute_result",
          "data": {
            "text/plain": [
              "<matplotlib.axes._subplots.AxesSubplot at 0x7f6102f522d0>"
            ]
          },
          "metadata": {},
          "execution_count": 34
        },
        {
          "output_type": "display_data",
          "data": {
            "image/png": "[encoded data removed]",
            "text/plain": [
              "<Figure size 432x288 with 1 Axes>"
            ]
          },
          "metadata": {
            "needs_background": "light"
          }
        }
      ]
    },
    {
      "cell_type": "code",
      "metadata": {
        "id": "K5S79GL50nX6"
      },
      "source": [
        "#we are going to impute with median\n",
        "from pyspark.ml.feature import Imputer\n",
        "imputer = Imputer(inputCol = 'bmi' , outputCol = 'bmi').setStrategy('median')"
      ],
      "id": "K5S79GL50nX6",
      "execution_count": null,
      "outputs": []
    },
    {
      "cell_type": "code",
      "metadata": {
        "id": "ZkOXZMZC1DdQ"
      },
      "source": [
        "df11 = imputer.fit(df1).transform(df1)"
      ],
      "id": "ZkOXZMZC1DdQ",
      "execution_count": null,
      "outputs": []
    },
    {
      "cell_type": "code",
      "metadata": {
        "colab": {
          "base_uri": "https://localhost:8080/"
        },
        "id": "ov2vTXHb1Jay",
        "outputId": "5dfacd8e-b075-4c32-85c8-bbb519d765c4"
      },
      "source": [
        "df11.show(10)"
      ],
      "id": "ov2vTXHb1Jay",
      "execution_count": null,
      "outputs": [
        {
          "output_type": "stream",
          "name": "stdout",
          "text": [
            "+-----+------+----+------------+-------------+------------+-------------+---------+-----------------+----+--------------+------+\n",
            "|   id|Gender| age|hypertension|heart_disease|ever_married|    work_type|Residence|avg_glucose_level| bmi|smoking_status|stroke|\n",
            "+-----+------+----+------------+-------------+------------+-------------+---------+-----------------+----+--------------+------+\n",
            "| 9046|     1|67.0|           0|            1|         Yes|      Private|    Urban|           228.69|36.6|          0.75|     1|\n",
            "|51676|     0|61.0|           0|            0|         Yes|Self-employed|    Rural|           202.21|28.2|           0.0|     1|\n",
            "|31112|     1|80.0|           0|            1|         Yes|      Private|    Rural|           105.92|32.5|           0.0|     1|\n",
            "|60182|     0|49.0|           0|            0|         Yes|      Private|    Urban|           171.23|34.4|           1.0|     1|\n",
            "| 1665|     0|79.0|           1|            0|         Yes|Self-employed|    Rural|           174.12|24.0|           0.0|     1|\n",
            "|56669|     1|81.0|           0|            0|         Yes|      Private|    Urban|           186.21|29.0|          0.75|     1|\n",
            "|53882|     1|74.0|           1|            1|         Yes|      Private|    Rural|            70.09|27.4|           0.0|     1|\n",
            "|10434|     0|69.0|           0|            0|          No|      Private|    Urban|            94.39|22.8|           0.0|     1|\n",
            "|27419|     0|59.0|           0|            0|         Yes|      Private|    Rural|            76.15|28.2|           0.5|     1|\n",
            "|60491|     0|78.0|           0|            0|         Yes|      Private|    Urban|            58.57|24.2|           0.5|     1|\n",
            "+-----+------+----+------------+-------------+------------+-------------+---------+-----------------+----+--------------+------+\n",
            "only showing top 10 rows\n",
            "\n"
          ]
        }
      ]
    },
    {
      "cell_type": "markdown",
      "metadata": {
        "id": "053c429a"
      },
      "source": [
        "### Split the data into training and test dataframes:\n",
        "- 80% training and 20% test.\n",
        "- seed = 42.\n",
        "- Save each dataframe as a parquet file"
      ],
      "id": "053c429a"
    },
    {
      "cell_type": "code",
      "metadata": {
        "id": "0236ea8b"
      },
      "source": [
        "train,test = df11.randomSplit([0.8 , 0.2], seed = 42)"
      ],
      "id": "0236ea8b",
      "execution_count": null,
      "outputs": []
    },
    {
      "cell_type": "markdown",
      "metadata": {
        "id": "78fa24da"
      },
      "source": [
        "### Read the saved Train and Test DataFrame:\n",
        "- Use the dataframes you read in the subsequent steps."
      ],
      "id": "78fa24da"
    },
    {
      "cell_type": "code",
      "metadata": {
        "id": "c3f5c1e3"
      },
      "source": [
        "train.write.parquet(\"/content/sample_data/train.parquet\")\n",
        "test.write.parquet(\"/content/sample_data/test.parquet\")"
      ],
      "id": "c3f5c1e3",
      "execution_count": null,
      "outputs": []
    },
    {
      "cell_type": "code",
      "metadata": {
        "id": "dZDrcePg2sXs"
      },
      "source": [
        "train_r = spark.read.parquet(\"/content/sample_data/train.parquet\")\n",
        "test_r = spark.read.parquet(\"/content/sample_data/test.parquet\")"
      ],
      "id": "dZDrcePg2sXs",
      "execution_count": null,
      "outputs": []
    },
    {
      "cell_type": "markdown",
      "metadata": {
        "id": "ij_RPhqv3Asv"
      },
      "source": [
        ""
      ],
      "id": "ij_RPhqv3Asv"
    },
    {
      "cell_type": "markdown",
      "metadata": {
        "id": "987b4b40"
      },
      "source": [
        "### Create the model:\n",
        "- Perform feature engineering steps.\n",
        "- Create the logistic regression classifier.\n",
        "- Build the pipeline model that uses all feature engineering steps and the model.\n",
        "- Train the pipeline model using the trainig dataset."
      ],
      "id": "987b4b40"
    },
    {
      "cell_type": "code",
      "metadata": {
        "colab": {
          "base_uri": "https://localhost:8080/"
        },
        "id": "3278e362",
        "outputId": "92eace35-fc1d-45d5-fa20-a5098c3604d6"
      },
      "source": [
        "train_r.show(5)"
      ],
      "id": "3278e362",
      "execution_count": null,
      "outputs": [
        {
          "output_type": "stream",
          "name": "stdout",
          "text": [
            "+---+------+----+------------+-------------+------------+---------+---------+-----------------+----+--------------+------+\n",
            "| id|Gender| age|hypertension|heart_disease|ever_married|work_type|Residence|avg_glucose_level| bmi|smoking_status|stroke|\n",
            "+---+------+----+------------+-------------+------------+---------+---------+-----------------+----+--------------+------+\n",
            "| 67|     0|17.0|           0|            0|          No|  Private|    Urban|            92.97|28.2|          0.75|     0|\n",
            "| 77|     0|13.0|           0|            0|          No| children|    Rural|            85.81|18.6|           0.5|     0|\n",
            "| 91|     0|42.0|           0|            0|          No|  Private|    Urban|            98.53|18.5|           0.0|     0|\n",
            "| 99|     0|31.0|           0|            0|          No|  Private|    Urban|           108.89|52.3|           0.5|     0|\n",
            "|121|     0|38.0|           0|            0|         Yes|  Private|    Urban|            91.44|28.2|           0.5|     0|\n",
            "+---+------+----+------------+-------------+------------+---------+---------+-----------------+----+--------------+------+\n",
            "only showing top 5 rows\n",
            "\n"
          ]
        }
      ]
    },
    {
      "cell_type": "code",
      "metadata": {
        "id": "4e41b352"
      },
      "source": [
        "train_r = train_r.drop('id')\n",
        "test_r = test_r.drop('id')"
      ],
      "id": "4e41b352",
      "execution_count": null,
      "outputs": []
    },
    {
      "cell_type": "code",
      "metadata": {
        "id": "Xqobb_cK3_Iu"
      },
      "source": [
        "#checking the distinct values in work_type and residence and ever_married"
      ],
      "id": "Xqobb_cK3_Iu",
      "execution_count": null,
      "outputs": []
    },
    {
      "cell_type": "code",
      "metadata": {
        "colab": {
          "base_uri": "https://localhost:8080/"
        },
        "id": "rQDmbfg93_Ks",
        "outputId": "4dc01a5c-8a4d-497f-80ac-3ae674750ae1"
      },
      "source": [
        "df1.select('work_type').distinct().show()\n",
        "df1.select('Residence').distinct().show()\n",
        "df1.select('ever_married').distinct().show()"
      ],
      "id": "rQDmbfg93_Ks",
      "execution_count": null,
      "outputs": [
        {
          "output_type": "stream",
          "name": "stdout",
          "text": [
            "+-------------+\n",
            "|    work_type|\n",
            "+-------------+\n",
            "| Never_worked|\n",
            "|Self-employed|\n",
            "|      Private|\n",
            "|     children|\n",
            "|     Govt_job|\n",
            "+-------------+\n",
            "\n",
            "+---------+\n",
            "|Residence|\n",
            "+---------+\n",
            "|    Urban|\n",
            "|    Rural|\n",
            "+---------+\n",
            "\n",
            "+------------+\n",
            "|ever_married|\n",
            "+------------+\n",
            "|          No|\n",
            "|         Yes|\n",
            "+------------+\n",
            "\n"
          ]
        }
      ]
    },
    {
      "cell_type": "code",
      "metadata": {
        "id": "yt1g9HEc4zPb"
      },
      "source": [
        "from pyspark.ml.feature import StringIndexer, VectorAssembler,OneHotEncoder\n",
        "from pyspark.ml import Pipeline"
      ],
      "id": "yt1g9HEc4zPb",
      "execution_count": null,
      "outputs": []
    },
    {
      "cell_type": "code",
      "metadata": {
        "id": "Pye-rGoA446N"
      },
      "source": [
        "cat_cols = ['work_type','Residence','ever_married']"
      ],
      "id": "Pye-rGoA446N",
      "execution_count": null,
      "outputs": []
    },
    {
      "cell_type": "code",
      "metadata": {
        "id": "F9amfsLQ6cDJ"
      },
      "source": [
        "indexOutputCols = [x + \"_Index\" for x in cat_cols]\n",
        "oheOutputCols = [x + \"_OHE\" for x in cat_cols]"
      ],
      "id": "F9amfsLQ6cDJ",
      "execution_count": null,
      "outputs": []
    },
    {
      "cell_type": "code",
      "metadata": {
        "colab": {
          "base_uri": "https://localhost:8080/"
        },
        "id": "DX5-Jqfx_ILM",
        "outputId": "69ff1c24-dd14-4175-a3d9-66c94fecf48f"
      },
      "source": [
        "indexOutputCols"
      ],
      "id": "DX5-Jqfx_ILM",
      "execution_count": null,
      "outputs": [
        {
          "output_type": "execute_result",
          "data": {
            "text/plain": [
              "['work_type_Index', 'Residence_Index', 'ever_married_Index']"
            ]
          },
          "metadata": {},
          "execution_count": 48
        }
      ]
    },
    {
      "cell_type": "code",
      "metadata": {
        "colab": {
          "base_uri": "https://localhost:8080/"
        },
        "id": "LPIrAFd9_Ifr",
        "outputId": "8fe53cf2-07ee-446c-a8bc-089aa3fa22fa"
      },
      "source": [
        "oheOutputCols "
      ],
      "id": "LPIrAFd9_Ifr",
      "execution_count": null,
      "outputs": [
        {
          "output_type": "execute_result",
          "data": {
            "text/plain": [
              "['work_type_OHE', 'Residence_OHE', 'ever_married_OHE']"
            ]
          },
          "metadata": {},
          "execution_count": 49
        }
      ]
    },
    {
      "cell_type": "code",
      "metadata": {
        "id": "wgV81jas448i"
      },
      "source": [
        "stringIndexer = StringIndexer(inputCols=cat_cols,\n",
        "                             outputCols=indexOutputCols,\n",
        "                             handleInvalid='skip')\n",
        "oheEncoder = OneHotEncoder(inputCols=indexOutputCols,\n",
        "                          outputCols=oheOutputCols)"
      ],
      "id": "wgV81jas448i",
      "execution_count": null,
      "outputs": []
    },
    {
      "cell_type": "code",
      "metadata": {
        "colab": {
          "base_uri": "https://localhost:8080/"
        },
        "id": "WtMQ2ato8yxM",
        "outputId": "9fb6160a-1ed3-4e9a-f63f-6c17f75c6d27"
      },
      "source": [
        "numericCols = [field for (field,dataType) in train_r.dtypes\n",
        "              if ((dataType!='string')& (field!='stroke'))]\n",
        "numericCols"
      ],
      "id": "WtMQ2ato8yxM",
      "execution_count": null,
      "outputs": [
        {
          "output_type": "execute_result",
          "data": {
            "text/plain": [
              "['Gender',\n",
              " 'age',\n",
              " 'hypertension',\n",
              " 'heart_disease',\n",
              " 'avg_glucose_level',\n",
              " 'bmi',\n",
              " 'smoking_status']"
            ]
          },
          "metadata": {},
          "execution_count": 51
        }
      ]
    },
    {
      "cell_type": "code",
      "metadata": {
        "id": "N7EEm_3v8yzU"
      },
      "source": [
        "assemblerInputs = oheOutputCols + numericCols"
      ],
      "id": "N7EEm_3v8yzU",
      "execution_count": null,
      "outputs": []
    },
    {
      "cell_type": "code",
      "metadata": {
        "colab": {
          "base_uri": "https://localhost:8080/"
        },
        "id": "sQmxU3DI939b",
        "outputId": "5bd745b1-b342-4c7a-bc24-7373ed862f4b"
      },
      "source": [
        "assemblerInputs"
      ],
      "id": "sQmxU3DI939b",
      "execution_count": null,
      "outputs": [
        {
          "output_type": "execute_result",
          "data": {
            "text/plain": [
              "['work_type_OHE',\n",
              " 'Residence_OHE',\n",
              " 'ever_married_OHE',\n",
              " 'Gender',\n",
              " 'age',\n",
              " 'hypertension',\n",
              " 'heart_disease',\n",
              " 'avg_glucose_level',\n",
              " 'bmi',\n",
              " 'smoking_status']"
            ]
          },
          "metadata": {},
          "execution_count": 53
        }
      ]
    },
    {
      "cell_type": "code",
      "metadata": {
        "id": "w_uUnGBK44-l"
      },
      "source": [
        "vecAssembler = VectorAssembler(inputCols=assemblerInputs,outputCol='features')"
      ],
      "id": "w_uUnGBK44-l",
      "execution_count": null,
      "outputs": []
    },
    {
      "cell_type": "code",
      "metadata": {
        "id": "c9CMVUsMEJGH"
      },
      "source": [
        ""
      ],
      "id": "c9CMVUsMEJGH",
      "execution_count": null,
      "outputs": []
    },
    {
      "cell_type": "code",
      "metadata": {
        "id": "sl6tS68ADnBy"
      },
      "source": [
        ""
      ],
      "id": "sl6tS68ADnBy",
      "execution_count": null,
      "outputs": []
    },
    {
      "cell_type": "code",
      "metadata": {
        "id": "b6tKu70WD8f0"
      },
      "source": [
        ""
      ],
      "id": "b6tKu70WD8f0",
      "execution_count": null,
      "outputs": []
    },
    {
      "cell_type": "code",
      "metadata": {
        "id": "KeLEiZHD3_Y9"
      },
      "source": [
        " from pyspark.ml.classification import LogisticRegression\n",
        " LR = LogisticRegression(featuresCol = 'features', labelCol = 'stroke')"
      ],
      "id": "KeLEiZHD3_Y9",
      "execution_count": null,
      "outputs": []
    },
    {
      "cell_type": "code",
      "metadata": {
        "id": "106453d7"
      },
      "source": [
        "pipeline = Pipeline(stages=[stringIndexer,oheEncoder,vecAssembler,LR])"
      ],
      "id": "106453d7",
      "execution_count": null,
      "outputs": []
    },
    {
      "cell_type": "code",
      "metadata": {
        "id": "UuERFHbl7wy9"
      },
      "source": [
        "predictions = pipeline.fit(train_r).transform(test_r)"
      ],
      "id": "UuERFHbl7wy9",
      "execution_count": null,
      "outputs": []
    },
    {
      "cell_type": "code",
      "metadata": {
        "colab": {
          "base_uri": "https://localhost:8080/"
        },
        "id": "ix5gSJ01-fe7",
        "outputId": "df2759c6-2554-4050-be6b-66cdf6b88616"
      },
      "source": [
        "predictions.show()"
      ],
      "id": "ix5gSJ01-fe7",
      "execution_count": null,
      "outputs": [
        {
          "output_type": "stream",
          "name": "stdout",
          "text": [
            "+------+----+------------+-------------+------------+-------------+---------+-----------------+----+--------------+------+---------------+---------------+------------------+-------------+-------------+----------------+--------------------+--------------------+--------------------+----------+\n",
            "|Gender| age|hypertension|heart_disease|ever_married|    work_type|Residence|avg_glucose_level| bmi|smoking_status|stroke|work_type_Index|Residence_Index|ever_married_Index|work_type_OHE|Residence_OHE|ever_married_OHE|            features|       rawPrediction|         probability|prediction|\n",
            "+------+----+------------+-------------+------------+-------------+---------+-----------------+----+--------------+------+---------------+---------------+------------------+-------------+-------------+----------------+--------------------+--------------------+--------------------+----------+\n",
            "|     1|55.0|           0|            0|         Yes|      Private|    Urban|            89.17|31.5|           0.0|     0|            0.0|            0.0|               0.0|(4,[0],[1.0])|(1,[0],[1.0])|   (1,[0],[1.0])|(13,[0,4,5,6,7,10...|[3.47424106049381...|[0.96994589576408...|       0.0|\n",
            "|     0|24.0|           0|            0|          No|      Private|    Urban|            97.55|26.2|           0.0|     0|            0.0|            0.0|               1.0|(4,[0],[1.0])|(1,[0],[1.0])|       (1,[],[])|(13,[0,4,7,10,11]...|[5.44621976401046...|[0.99570594198100...|       0.0|\n",
            "|     0|33.0|           0|            0|         Yes|      Private|    Rural|            86.97|42.2|           0.0|     0|            0.0|            1.0|               0.0|(4,[0],[1.0])|    (1,[],[])|   (1,[0],[1.0])|(13,[0,5,7,10,11]...|[5.14612472247222...|[0.99421177595950...|       0.0|\n",
            "|     0|43.0|           0|            0|         Yes|      Private|    Rural|            88.23|37.6|           0.5|     0|            0.0|            1.0|               0.0|(4,[0],[1.0])|    (1,[],[])|   (1,[0],[1.0])|(13,[0,5,7,10,11,...|[4.17685717319429...|[0.98488529651221...|       0.0|\n",
            "|     1|79.0|           0|            0|         Yes|      Private|    Urban|           198.79|24.9|           0.0|     0|            0.0|            0.0|               0.0|(4,[0],[1.0])|(1,[0],[1.0])|   (1,[0],[1.0])|(13,[0,4,5,6,7,10...|[1.21566979162533...|[0.77130061557211...|       0.0|\n",
            "|     0|43.0|           0|            0|         Yes|      Private|    Rural|           110.32|28.4|           0.0|     0|            0.0|            1.0|               0.0|(4,[0],[1.0])|    (1,[],[])|   (1,[0],[1.0])|(13,[0,5,7,10,11]...|[4.26877188878687...|[0.98619430061454...|       0.0|\n",
            "|     1|78.0|           1|            0|         Yes|Self-employed|    Rural|            75.19|27.6|           0.0|     0|            1.0|            1.0|               0.0|(4,[1],[1.0])|    (1,[],[])|   (1,[0],[1.0])|(13,[1,5,6,7,8,10...|[1.82965962975124...|[0.86172117405333...|       0.0|\n",
            "|     0|74.0|           0|            0|         Yes|Self-employed|    Urban|            74.96|26.6|           0.0|     1|            1.0|            0.0|               0.0|(4,[1],[1.0])|(1,[0],[1.0])|   (1,[0],[1.0])|(13,[1,4,5,7,10,1...|[2.47173594225223...|[0.92213649824677...|       0.0|\n",
            "|     0|14.0|           0|            0|          No|     children|    Rural|            92.22|22.8|           0.5|     0|            3.0|            1.0|               1.0|(4,[3],[1.0])|    (1,[],[])|       (1,[],[])|(13,[3,7,10,11,12...|[5.75979292553834...|[0.99685813822665...|       0.0|\n",
            "|     1|69.0|           0|            0|         Yes|      Private|    Rural|           101.52|26.8|           1.0|     0|            0.0|            1.0|               0.0|(4,[0],[1.0])|    (1,[],[])|   (1,[0],[1.0])|(13,[0,5,6,7,10,1...|[2.01233110667250...|[0.88208569784382...|       0.0|\n",
            "|     1|52.0|           0|            0|         Yes|     Govt_job|    Rural|            87.26|40.1|           1.0|     0|            2.0|            1.0|               0.0|(4,[2],[1.0])|    (1,[],[])|   (1,[0],[1.0])|(13,[2,5,6,7,10,1...|[3.45635549690960...|[0.96942011095737...|       0.0|\n",
            "|     0|82.0|           1|            1|          No|      Private|    Rural|            84.03|26.5|          0.75|     1|            0.0|            1.0|               1.0|(4,[0],[1.0])|    (1,[],[])|       (1,[],[])|(13,[0,7,8,9,10,1...|[0.50740831612456...|[0.62419872702678...|       0.0|\n",
            "|     1|17.0|           0|            0|          No|      Private|    Rural|            81.77|44.7|           0.0|     0|            0.0|            1.0|               1.0|(4,[0],[1.0])|    (1,[],[])|       (1,[],[])|(13,[0,6,7,10,11]...|[6.19770970056255...|[0.99797004513178...|       0.0|\n",
            "|     0|73.0|           0|            0|         Yes|Self-employed|    Rural|            79.69|28.2|          0.75|     0|            1.0|            1.0|               0.0|(4,[1],[1.0])|    (1,[],[])|   (1,[0],[1.0])|(13,[1,5,7,10,11,...|[2.26021264170013...|[0.90552782351726...|       0.0|\n",
            "|     0|59.0|           1|            0|         Yes|      Private|    Rural|            99.06|23.4|           0.0|     0|            0.0|            1.0|               0.0|(4,[0],[1.0])|    (1,[],[])|   (1,[0],[1.0])|(13,[0,5,7,8,10,1...|[2.68794466961361...|[0.93631152754319...|       0.0|\n",
            "|     0|60.0|           0|            0|         Yes|     Govt_job|    Urban|            80.86|31.0|           1.0|     0|            2.0|            0.0|               0.0|(4,[2],[1.0])|(1,[0],[1.0])|   (1,[0],[1.0])|(13,[2,4,5,7,10,1...|[2.77019791827131...|[0.94104396804264...|       0.0|\n",
            "|     0|14.0|           0|            0|          No|      Private|    Urban|            83.42|28.7|           0.0|     0|            0.0|            0.0|               1.0|(4,[0],[1.0])|(1,[0],[1.0])|       (1,[],[])|(13,[0,4,7,10,11]...|[6.23972762423270...|[0.99805340991481...|       0.0|\n",
            "|     1|69.0|           1|            0|         Yes|      Private|    Urban|           229.21|30.1|           1.0|     0|            0.0|            0.0|               0.0|(4,[0],[1.0])|(1,[0],[1.0])|   (1,[0],[1.0])|[1.0,0.0,0.0,0.0,...|[0.89084907143343...|[0.70906536002177...|       0.0|\n",
            "|     1|70.0|           0|            0|         Yes|     Govt_job|    Urban|           202.55|28.2|          0.75|     0|            2.0|            0.0|               0.0|(4,[2],[1.0])|(1,[0],[1.0])|   (1,[0],[1.0])|[0.0,0.0,1.0,0.0,...|[1.62268454804769...|[0.83516502911528...|       0.0|\n",
            "|     0|29.0|           0|            0|          No|      Private|    Urban|            71.89|27.6|           0.0|     0|            0.0|            0.0|               1.0|(4,[0],[1.0])|(1,[0],[1.0])|       (1,[],[])|(13,[0,4,7,10,11]...|[5.21121902336618...|[0.99457457595953...|       0.0|\n",
            "+------+----+------------+-------------+------------+-------------+---------+-----------------+----+--------------+------+---------------+---------------+------------------+-------------+-------------+----------------+--------------------+--------------------+--------------------+----------+\n",
            "only showing top 20 rows\n",
            "\n"
          ]
        }
      ]
    },
    {
      "cell_type": "code",
      "metadata": {
        "colab": {
          "base_uri": "https://localhost:8080/"
        },
        "id": "JtlOktAGCVFC",
        "outputId": "f87d4d27-5b42-4e85-8306-39d63ba6539d"
      },
      "source": [
        "predictions.select('prediction').distinct().show()"
      ],
      "id": "JtlOktAGCVFC",
      "execution_count": null,
      "outputs": [
        {
          "output_type": "stream",
          "name": "stdout",
          "text": [
            "+----------+\n",
            "|prediction|\n",
            "+----------+\n",
            "|       0.0|\n",
            "+----------+\n",
            "\n"
          ]
        }
      ]
    },
    {
      "cell_type": "markdown",
      "metadata": {
        "id": "a05c2677"
      },
      "source": [
        "### Perform predictions on tests dataframe:\n",
        "- Test the model using the test dataframe\n",
        "- Select and show the feature column.\n",
        "- Print the schema of the output dataframe.\n",
        "- Select and show both prediction and label columns.\n",
        "- Explore the results for the label column stroke=1. i.e. select both columns (prediction,stroke) for stroke=1.<b>notice the result.</b> \n",
        "- Count the predicted 1 and 0 values.<b>notice the result.</b>   "
      ],
      "id": "a05c2677"
    },
    {
      "cell_type": "code",
      "metadata": {
        "colab": {
          "base_uri": "https://localhost:8080/"
        },
        "id": "cfeAbt642eXQ",
        "outputId": "caa8569b-5934-4e32-9bb4-ce5177d40777"
      },
      "source": [
        "predictions.select('features').show()"
      ],
      "id": "cfeAbt642eXQ",
      "execution_count": null,
      "outputs": [
        {
          "output_type": "stream",
          "name": "stdout",
          "text": [
            "+--------------------+\n",
            "|            features|\n",
            "+--------------------+\n",
            "|(13,[0,4,5,6,7,10...|\n",
            "|(13,[0,4,7,10,11]...|\n",
            "|(13,[0,5,7,10,11]...|\n",
            "|(13,[0,5,7,10,11,...|\n",
            "|(13,[0,4,5,6,7,10...|\n",
            "|(13,[0,5,7,10,11]...|\n",
            "|(13,[1,5,6,7,8,10...|\n",
            "|(13,[1,4,5,7,10,1...|\n",
            "|(13,[3,7,10,11,12...|\n",
            "|(13,[0,5,6,7,10,1...|\n",
            "|(13,[2,5,6,7,10,1...|\n",
            "|(13,[0,7,8,9,10,1...|\n",
            "|(13,[0,6,7,10,11]...|\n",
            "|(13,[1,5,7,10,11,...|\n",
            "|(13,[0,5,7,8,10,1...|\n",
            "|(13,[2,4,5,7,10,1...|\n",
            "|(13,[0,4,7,10,11]...|\n",
            "|[1.0,0.0,0.0,0.0,...|\n",
            "|[0.0,0.0,1.0,0.0,...|\n",
            "|(13,[0,4,7,10,11]...|\n",
            "+--------------------+\n",
            "only showing top 20 rows\n",
            "\n"
          ]
        }
      ]
    },
    {
      "cell_type": "code",
      "metadata": {
        "id": "d772bef6"
      },
      "source": [
        ""
      ],
      "id": "d772bef6",
      "execution_count": null,
      "outputs": []
    },
    {
      "cell_type": "code",
      "metadata": {
        "id": "3ea267eb"
      },
      "source": [
        ""
      ],
      "id": "3ea267eb",
      "execution_count": null,
      "outputs": []
    },
    {
      "cell_type": "code",
      "metadata": {
        "scrolled": false,
        "id": "480d892e"
      },
      "source": [
        ""
      ],
      "id": "480d892e",
      "execution_count": null,
      "outputs": []
    },
    {
      "cell_type": "markdown",
      "metadata": {
        "id": "daec120f"
      },
      "source": [
        "### Evaluate the model performance\n",
        "- Use <b>BinaryClassificationEvaluator</b>. This will calculate the <b>ROC</b>.\n",
        "- Set the parameters as follow:\n",
        "    - <b>rawPredictionCol='prediction'</b> and <b>labelCol='stroke'</b>"
      ],
      "id": "daec120f"
    },
    {
      "cell_type": "code",
      "metadata": {
        "id": "a7b5ad25"
      },
      "source": [
        "from pyspark.ml.evaluation import BinaryClassificationEvaluator"
      ],
      "id": "a7b5ad25",
      "execution_count": 134,
      "outputs": []
    },
    {
      "cell_type": "code",
      "metadata": {
        "id": "44d3a1e6"
      },
      "source": [
        "evaluatorROC = BinaryClassificationEvaluator(rawPredictionCol='prediction'\n",
        "                                             ,labelCol='stroke')"
      ],
      "id": "44d3a1e6",
      "execution_count": 135,
      "outputs": []
    },
    {
      "cell_type": "code",
      "metadata": {
        "id": "8_EXeltkBjmV"
      },
      "source": [
        ""
      ],
      "id": "8_EXeltkBjmV",
      "execution_count": 135,
      "outputs": []
    },
    {
      "cell_type": "code",
      "metadata": {
        "colab": {
          "base_uri": "https://localhost:8080/"
        },
        "id": "3adbe41f",
        "outputId": "466cb99d-acd2-4025-c428-737c799e039b"
      },
      "source": [
        "\n",
        "evaluatorROC.evaluate(predictions)"
      ],
      "id": "3adbe41f",
      "execution_count": 136,
      "outputs": [
        {
          "output_type": "execute_result",
          "data": {
            "text/plain": [
              "0.5"
            ]
          },
          "metadata": {},
          "execution_count": 136
        }
      ]
    },
    {
      "cell_type": "markdown",
      "metadata": {
        "id": "40206589"
      },
      "source": [
        "### Improve Model Performance\n",
        "- You may noticed that <b>the target label is imbalanced</b>.\n",
        "- LogisticRegression classifier has a special parameter <b>weightCol</b> to deal with imbalanced class.\n",
        "- In order to use this parameter you must have a <b>weightCol</b> in your training dataframe.\n",
        "- In order to create this column you will need to define a <b>UDF</b> and apply it to the target label column.\n",
        "- Create a LogisticRegression classifier with <b>weightCol</b> parameter.\n",
        "- Build and train a pipeline model with the new LogisticRegression.\n",
        "- Perform the prediction on the test dataframe. \n",
        "- Select and show both prediction and label columns.\n",
        "- Explore the results for the label column stroke=1. i.e. select both columns (prediction,stroke) for stroke=1.<b>notice the result.</b> \n",
        "- Count the predicted 1 and 0 values.<b>notice the result.</b>   \n",
        "- Evaluate the model performance exactly as in the previous step.\n",
        "### YOU SHOULD OBTAIN  ROC > 0.65\n",
        "<BR>\n",
        "<b><font color='red'>Note: feel free to deal with the imbalanced cluster with the above method or another. However, you can only use methods applied on SPARK DATAFRAME</font></b>"
      ],
      "id": "40206589"
    },
    {
      "cell_type": "code",
      "metadata": {
        "id": "03385adc",
        "outputId": "f421274c-0ffe-429e-c8d8-73628f435036"
      },
      "source": [
        ""
      ],
      "id": "03385adc",
      "execution_count": null,
      "outputs": [
        {
          "name": "stdout",
          "output_type": "stream",
          "text": [
            "+------+-------------------+\n",
            "|stroke|          weightCol|\n",
            "+------+-------------------+\n",
            "|     0|0.04486176317162238|\n",
            "|     0|0.04486176317162238|\n",
            "|     0|0.04486176317162238|\n",
            "|     0|0.04486176317162238|\n",
            "|     0|0.04486176317162238|\n",
            "|     0|0.04486176317162238|\n",
            "|     1| 0.9551382368283776|\n",
            "|     0|0.04486176317162238|\n",
            "|     0|0.04486176317162238|\n",
            "|     0|0.04486176317162238|\n",
            "|     0|0.04486176317162238|\n",
            "|     0|0.04486176317162238|\n",
            "|     0|0.04486176317162238|\n",
            "|     0|0.04486176317162238|\n",
            "|     0|0.04486176317162238|\n",
            "|     0|0.04486176317162238|\n",
            "|     0|0.04486176317162238|\n",
            "|     0|0.04486176317162238|\n",
            "|     0|0.04486176317162238|\n",
            "|     0|0.04486176317162238|\n",
            "+------+-------------------+\n",
            "only showing top 20 rows\n",
            "\n"
          ]
        }
      ]
    },
    {
      "cell_type": "code",
      "metadata": {
        "id": "00e034e9"
      },
      "source": [
        "#we are going to use the weight col"
      ],
      "id": "00e034e9",
      "execution_count": null,
      "outputs": []
    },
    {
      "cell_type": "code",
      "metadata": {
        "colab": {
          "base_uri": "https://localhost:8080/"
        },
        "id": "sX6yax6SHITr",
        "outputId": "6739ac99-30a2-442e-a1c0-b3f1e1dfebc6"
      },
      "source": [
        "train_r.groupBy('stroke').count().show()"
      ],
      "id": "sX6yax6SHITr",
      "execution_count": 139,
      "outputs": [
        {
          "output_type": "stream",
          "name": "stdout",
          "text": [
            "+------+-----+\n",
            "|stroke|count|\n",
            "+------+-----+\n",
            "|     1|  202|\n",
            "|     0| 3835|\n",
            "+------+-----+\n",
            "\n"
          ]
        }
      ]
    },
    {
      "cell_type": "code",
      "metadata": {
        "colab": {
          "base_uri": "https://localhost:8080/"
        },
        "id": "CjSdxu6MHR-C",
        "outputId": "5d9f093d-f8a8-47d5-cf38-efc294e867c0"
      },
      "source": [
        "202/(202+3835)"
      ],
      "id": "CjSdxu6MHR-C",
      "execution_count": 140,
      "outputs": [
        {
          "output_type": "execute_result",
          "data": {
            "text/plain": [
              "0.05003715630418628"
            ]
          },
          "metadata": {},
          "execution_count": 140
        }
      ]
    },
    {
      "cell_type": "code",
      "metadata": {
        "id": "Gr5nm6rgEekn"
      },
      "source": [
        "dic3 = {0 : 0.05, 1 : 0.95}"
      ],
      "id": "Gr5nm6rgEekn",
      "execution_count": 141,
      "outputs": []
    },
    {
      "cell_type": "code",
      "metadata": {
        "id": "m4MkQ8klEemi"
      },
      "source": [
        "weight = udf(lambda x : dic3[x], DoubleType())\n",
        "train_r = train_r.withColumn('weights',weight('stroke'))"
      ],
      "id": "m4MkQ8klEemi",
      "execution_count": 142,
      "outputs": []
    },
    {
      "cell_type": "code",
      "metadata": {
        "colab": {
          "base_uri": "https://localhost:8080/"
        },
        "id": "kPp2FQm_Eeon",
        "outputId": "60f88511-4f1f-40b4-c5d1-dacce9b13ad0"
      },
      "source": [
        "train_r.show(5)"
      ],
      "id": "kPp2FQm_Eeon",
      "execution_count": 143,
      "outputs": [
        {
          "output_type": "stream",
          "name": "stdout",
          "text": [
            "+------+----+------------+-------------+------------+---------+---------+-----------------+----+--------------+------+-------+\n",
            "|Gender| age|hypertension|heart_disease|ever_married|work_type|Residence|avg_glucose_level| bmi|smoking_status|stroke|weights|\n",
            "+------+----+------------+-------------+------------+---------+---------+-----------------+----+--------------+------+-------+\n",
            "|     0|17.0|           0|            0|          No|  Private|    Urban|            92.97|28.2|          0.75|     0|   0.05|\n",
            "|     0|13.0|           0|            0|          No| children|    Rural|            85.81|18.6|           0.5|     0|   0.05|\n",
            "|     0|42.0|           0|            0|          No|  Private|    Urban|            98.53|18.5|           0.0|     0|   0.05|\n",
            "|     0|31.0|           0|            0|          No|  Private|    Urban|           108.89|52.3|           0.5|     0|   0.05|\n",
            "|     0|38.0|           0|            0|         Yes|  Private|    Urban|            91.44|28.2|           0.5|     0|   0.05|\n",
            "+------+----+------------+-------------+------------+---------+---------+-----------------+----+--------------+------+-------+\n",
            "only showing top 5 rows\n",
            "\n"
          ]
        }
      ]
    },
    {
      "cell_type": "code",
      "metadata": {
        "id": "BvUJWlFvEesJ"
      },
      "source": [
        " LR = LogisticRegression(featuresCol = 'features', labelCol = 'stroke', weightCol = 'weights')"
      ],
      "id": "BvUJWlFvEesJ",
      "execution_count": 149,
      "outputs": []
    },
    {
      "cell_type": "code",
      "metadata": {
        "id": "-SOtkRDEEetf"
      },
      "source": [
        "pipeline2 = Pipeline(stages=[stringIndexer,oheEncoder,vecAssembler,LR])"
      ],
      "id": "-SOtkRDEEetf",
      "execution_count": 150,
      "outputs": []
    },
    {
      "cell_type": "code",
      "metadata": {
        "id": "T8gB_DqwEevH"
      },
      "source": [
        "predictions2 = pipeline2.fit(train_r).transform(test_r)"
      ],
      "id": "T8gB_DqwEevH",
      "execution_count": 151,
      "outputs": []
    },
    {
      "cell_type": "code",
      "metadata": {
        "colab": {
          "base_uri": "https://localhost:8080/"
        },
        "id": "ryLfidIFFMup",
        "outputId": "19d57da0-b23a-4a43-dafd-36b478d08068"
      },
      "source": [
        "predictions2.select('prediction').distinct().show()"
      ],
      "id": "ryLfidIFFMup",
      "execution_count": 152,
      "outputs": [
        {
          "output_type": "stream",
          "name": "stdout",
          "text": [
            "+----------+\n",
            "|prediction|\n",
            "+----------+\n",
            "|       0.0|\n",
            "|       1.0|\n",
            "+----------+\n",
            "\n"
          ]
        }
      ]
    },
    {
      "cell_type": "code",
      "metadata": {
        "colab": {
          "base_uri": "https://localhost:8080/"
        },
        "id": "66efa0c6",
        "outputId": "f37e939b-919f-4fca-bfd3-6ffd1fcd46ac"
      },
      "source": [
        "evaluatorROC.evaluate(predictions2)\n",
        "#higher than the needed 0.65"
      ],
      "id": "66efa0c6",
      "execution_count": 153,
      "outputs": [
        {
          "output_type": "execute_result",
          "data": {
            "text/plain": [
              "0.7757777671252577"
            ]
          },
          "metadata": {},
          "execution_count": 153
        }
      ]
    },
    {
      "cell_type": "code",
      "metadata": {
        "id": "yRtLJ54MF1NA"
      },
      "source": [
        ""
      ],
      "id": "yRtLJ54MF1NA",
      "execution_count": 153,
      "outputs": []
    },
    {
      "cell_type": "markdown",
      "metadata": {
        "id": "e00e7b53"
      },
      "source": [
        "# GOOD LUCK\n",
        "<b><font color='GREEN'>AI-PRO Spark Team ITI</font></b>"
      ],
      "id": "e00e7b53"
    },
    {
      "cell_type": "markdown",
      "metadata": {
        "id": "0e065922"
      },
      "source": [
        "![image-3.png](attachment:image-3.png)"
      ],
      "id": "0e065922"
    }
  ]
}